{
 "cells": [
  {
   "cell_type": "code",
   "execution_count": 1,
   "id": "a2246b89",
   "metadata": {},
   "outputs": [],
   "source": [
    "# May 7"
   ]
  },
  {
   "cell_type": "markdown",
   "id": "5131b980",
   "metadata": {},
   "source": [
    "\n",
    "\n",
    "Q1. The three measures of central tendency are mean, median, and mode.\n",
    "\n",
    "Q2. The mean is the average of all the data points, calculated by summing all the values and dividing by the number of values. The median is the middle value when the data is arranged in ascending or descending order. The mode is the value that appears most frequently in the dataset. They are used to measure the central tendency of a dataset, which is a single value that attempts to typify the entire dataset.\n",
    "\n",
    "Q3. Here are the three measures of central tendency for the given height data:\n",
    "\n",
    "Mean: sum(data) / len(data) = 177.38125\n",
    "Median: sorted(data)[len(data)//2] = 177.5\n",
    "Mode: Counter(data).most_common(1)[0][0] = 177\n",
    "Q4. The standard deviation for the given data is calculated as follows:\n",
    "\n",
    "First, calculate the mean: sum(data) / len(data) = 177.38125\n",
    "Then, calculate the variance: sum((x - mean)**2 for x in data) / len(data) = 2.546875\n",
    "Finally, take the square root of the variance to get the standard deviation: sqrt(2.546875) = 1.596077\n",
    "Q5. Measures of dispersion such as range, variance, and standard deviation are used to describe the spread of a dataset. For example, a dataset with a high standard deviation has a wider spread of values, indicating that the values are further from the average.\n",
    "\n",
    "Q6. A Venn diagram is a diagram that shows all possible logical relations between a finite collection of different sets. It depicts these sets as circles or ellipses.\n",
    "\n",
    "Q7. For the given sets A = (2,3,4,5,6,7) & B = (0,2,6,8,10): (i) A ∩ B = {2, 6} (intersection) (ii) A ⋃ B = {0, 2, 3, 4, 5, 6, 7, 8, 10} (union)\n",
    "\n",
    "Q8. Skewness in data refers to the asymmetry of the probability distribution of a real-valued random variable about its mean. A distribution is skewed to the right if its tail extends towards positive values, and skewed to the left if its tail extends towards negative values.\n",
    "\n",
    "Q9. If a data is right skewed, the median is less than the mean.\n",
    "\n",
    "Q10. Covariance measures the linear relationship between two variables, while correlation measures the strength and direction of this relationship. Covariance can be positive, negative, or zero, while correlation ranges from -1 to 1. These measures are used in statistical analysis to understand the relationship between variables.\n",
    "\n",
    "Q11. The formula for calculating the sample mean is sum(data) / len(data). For example, for the dataset [1, 2, 3, 4, 5], the sample mean is (1+2+3+4+5) / 5 = 3.\n",
    "\n",
    "Q12. For a normal distribution data, the mean, median, and mode are all equal.\n",
    "\n",
    "Q13. Covariance is a measure of how much two variables change together, while correlation is a standardized measure of covariance that shows the strength and direction of the linear relationship between two variables.\n",
    "\n",
    "Q14. Outliers can significantly affect measures of central tendency and dispersion. For example, an outlier can cause the mean to be much larger or smaller than the typical values in the dataset, and it can also increase the standard deviation. For example, if the dataset [1, 2, 3, 4, 5] has an outlier 100 added to it, the mean changes from 3 to 21.67, and the standard deviation increases from 1.58 to 28.46.# "
   ]
  },
  {
   "cell_type": "code",
   "execution_count": null,
   "id": "75fbb576",
   "metadata": {},
   "outputs": [],
   "source": []
  }
 ],
 "metadata": {
  "kernelspec": {
   "display_name": "Python 3 (ipykernel)",
   "language": "python",
   "name": "python3"
  },
  "language_info": {
   "codemirror_mode": {
    "name": "ipython",
    "version": 3
   },
   "file_extension": ".py",
   "mimetype": "text/x-python",
   "name": "python",
   "nbconvert_exporter": "python",
   "pygments_lexer": "ipython3",
   "version": "3.11.4"
  }
 },
 "nbformat": 4,
 "nbformat_minor": 5
}
