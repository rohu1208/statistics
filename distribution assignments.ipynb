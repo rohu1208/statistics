{
 "cells": [
  {
   "cell_type": "markdown",
   "id": "d1edb5c0",
   "metadata": {},
   "source": [
    "# Q1. What is the Probability Density Function (PDF)?"
   ]
  },
  {
   "cell_type": "raw",
   "id": "c49e0ec7",
   "metadata": {},
   "source": [
    "A Probability Density Function (PDF) is a function that describes the relative likelihood for a continuous random variable to take on a given value. The value of the PDF at any given point represents the density of the probability, rather than the probability itself. The area under the PDF curve over a given interval represents the probability that the random variable falls within that interval. For a valid PDF, the total area under the curve is equal to 1."
   ]
  },
  {
   "cell_type": "markdown",
   "id": "80d63baa",
   "metadata": {},
   "source": [
    "# Q2. What are the types of Probability Distribution?\n",
    "Probability distributions can be broadly classified into two types:\n",
    "\n",
    "Discrete Probability Distributions: These distributions describe variables that can take on only specific values (usually integers). Examples include:\n",
    "\n",
    "Binomial Distribution\n",
    "Poisson Distribution\n",
    "Geometric Distribution\n",
    "Continuous Probability Distributions: These distributions describe variables that can take on any value within a certain range. Examples include:\n",
    "\n",
    "Normal Distribution\n",
    "Exponential Distribution\n",
    "Uniform Distribution"
   ]
  },
  {
   "cell_type": "markdown",
   "id": "f286a199",
   "metadata": {},
   "source": [
    "# Q3. Write a Python function to calculate the probability density function of a normal distribution with given mean and standard deviation at a given point."
   ]
  },
  {
   "cell_type": "code",
   "execution_count": 1,
   "id": "4757caf7",
   "metadata": {},
   "outputs": [
    {
     "name": "stdout",
     "output_type": "stream",
     "text": [
      "0.3989422804014327\n"
     ]
    }
   ],
   "source": [
    "import math\n",
    "\n",
    "def normal_pdf(x, mean, std_dev):\n",
    "    exponent = math.exp(-0.5 * ((x - mean) / std_dev) ** 2)\n",
    "    return (1 / (std_dev * math.sqrt(2 * math.pi))) * exponent\n",
    "\n",
    "# Example usage:\n",
    "mean = 0\n",
    "std_dev = 1\n",
    "x = 0\n",
    "print(normal_pdf(x, mean, std_dev))\n"
   ]
  },
  {
   "cell_type": "markdown",
   "id": "463e178c",
   "metadata": {},
   "source": [
    "# Q4. What are the properties of Binomial Distribution? Give two examples of events where binomial distribution can be applied.\n",
    "Properties of Binomial Distribution:\n",
    "Fixed Number of Trials: The distribution describes the number of successes in a fixed number of independent trials.\n",
    "Binary Outcomes: Each trial has only two possible outcomes - success or failure.\n",
    "Constant Probability: The probability of success remains constant in each trial.\n",
    "Independent Trials: The outcomes of the trials are independent of each other.\n",
    "Examples:\n",
    "Tossing a Coin: Counting the number of heads in 10 tosses of a fair coin.\n",
    "Quality Control: Counting the number of defective items in a sample of 20 items from a production line where the probability of an item being defective is constant."
   ]
  },
  {
   "cell_type": "markdown",
   "id": "4841f74d",
   "metadata": {},
   "source": [
    "# Q5. Generate a random sample of size 1000 from a binomial distribution with probability of success 0.4 and plot a histogram of the results using matplotlib."
   ]
  },
  {
   "cell_type": "code",
   "execution_count": 2,
   "id": "0ce55d1b",
   "metadata": {},
   "outputs": [
    {
     "data": {
      "image/png": "[encoded data removed]",
      "text/plain": [
       "<Figure size 1000x600 with 1 Axes>"
      ]
     },
     "metadata": {},
     "output_type": "display_data"
    }
   ],
   "source": [
    "import numpy as np\n",
    "import matplotlib.pyplot as plt\n",
    "\n",
    "# Parameters\n",
    "n = 10  # number of trials\n",
    "p = 0.4 # probability of success\n",
    "size = 1000 # sample size\n",
    "\n",
    "# Generate random sample\n",
    "sample = np.random.binomial(n, p, size)\n",
    "\n",
    "# Plot histogram\n",
    "plt.figure(figsize=(10, 6))\n",
    "plt.hist(sample, bins=np.arange(0, n+2)-0.5, edgecolor='black')\n",
    "plt.title('Histogram of Binomial Distribution Sample')\n",
    "plt.xlabel('Number of Successes')\n",
    "plt.ylabel('Frequency')\n",
    "plt.show()\n"
   ]
  },
  {
   "cell_type": "markdown",
   "id": "7ca79e71",
   "metadata": {},
   "source": [
    "# Q6. Write a Python function to calculate the cumulative distribution function of a Poisson distribution with given mean at a given point."
   ]
  },
  {
   "cell_type": "code",
   "execution_count": 4,
   "id": "c21d0d82",
   "metadata": {},
   "outputs": [
    {
     "name": "stdout",
     "output_type": "stream",
     "text": [
      "0.42319008112684364\n"
     ]
    }
   ],
   "source": [
    "from scipy.stats import poisson\n",
    "\n",
    "def poisson_cdf(k, mean):\n",
    "    return poisson.cdf(k, mean)\n",
    "\n",
    "# Example usage:\n",
    "mean = 3\n",
    "k = 2\n",
    "print(poisson_cdf(k, mean))\n"
   ]
  },
  {
   "cell_type": "markdown",
   "id": "26c9a0eb",
   "metadata": {},
   "source": [
    "# Q7. How is Binomial Distribution different from Poisson Distribution?\n",
    "Binomial Distribution:\n",
    "\n",
    "Describes the number of successes in a fixed number of independent trials.\n",
    "Each trial has a constant probability of success.\n",
    "Defined by two parameters: number of trials (n) and probability of success (p).\n",
    "Poisson Distribution:\n",
    "\n",
    "Describes the number of events occurring in a fixed interval of time or space.\n",
    "Events occur independently with a constant mean rate.\n",
    "Defined by one parameter: the average rate (λ)."
   ]
  },
  {
   "cell_type": "markdown",
   "id": "17e2c56f",
   "metadata": {},
   "source": [
    "# Q8. Generate a random sample of size 1000 from a Poisson distribution with mean 5 and calculate the sample mean and variance."
   ]
  },
  {
   "cell_type": "code",
   "execution_count": 5,
   "id": "0aea0849",
   "metadata": {},
   "outputs": [
    {
     "name": "stdout",
     "output_type": "stream",
     "text": [
      "Sample Mean: 4.977\n",
      "Sample Variance: 4.842471\n"
     ]
    }
   ],
   "source": [
    "# Parameters\n",
    "mean = 5\n",
    "size = 1000\n",
    "\n",
    "# Generate random sample\n",
    "poisson_sample = np.random.poisson(mean, size)\n",
    "\n",
    "# Calculate sample mean and variance\n",
    "sample_mean = np.mean(poisson_sample)\n",
    "sample_variance = np.var(poisson_sample)\n",
    "\n",
    "print(f'Sample Mean: {sample_mean}')\n",
    "print(f'Sample Variance: {sample_variance}')\n"
   ]
  },
  {
   "cell_type": "markdown",
   "id": "06ee33d4",
   "metadata": {},
   "source": [
    "\n",
    "# Q9. How are mean and variance related in Binomial Distribution and Poisson Distribution?\n",
    "Binomial Distribution:\n",
    "\n",
    "Mean (μ) = n * p\n",
    "Variance (σ²) = n * p * (1 - p)\n",
    "Poisson Distribution:\n",
    "\n",
    "Mean (μ) = λ\n",
    "Variance (σ²) = λ\n",
    "Q10. In normal distribution with respect to mean position, where does the least frequent data appear?\n",
    "In a normal distribution, the least frequent data appears in the tails, farthest from the mean. These are the extreme values that lie many standard deviations away from the mean. The probability density decreases exponentially as you move away from the mean towards the tails."
   ]
  },
  {
   "cell_type": "code",
   "execution_count": null,
   "id": "f53cbf26",
   "metadata": {},
   "outputs": [],
   "source": []
  }
 ],
 "metadata": {
  "kernelspec": {
   "display_name": "Python 3 (ipykernel)",
   "language": "python",
   "name": "python3"
  },
  "language_info": {
   "codemirror_mode": {
    "name": "ipython",
    "version": 3
   },
   "file_extension": ".py",
   "mimetype": "text/x-python",
   "name": "python",
   "nbconvert_exporter": "python",
   "pygments_lexer": "ipython3",
   "version": "3.11.4"
  }
 },
 "nbformat": 4,
 "nbformat_minor": 5
}
